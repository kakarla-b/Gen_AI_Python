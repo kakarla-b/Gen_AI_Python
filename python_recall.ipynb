{
 "cells": [
  {
   "cell_type": "code",
   "execution_count": null,
   "metadata": {},
   "outputs": [],
   "source": [
    "Print(\"Welcome to Python bresh up session\")"
   ]
  }
 ],
 "metadata": {
  "kernelspec": {
   "display_name": "Gen_AI_python_basics",
   "language": "python",
   "name": "python3"
  },
  "language_info": {
   "name": "python",
   "version": "3.12.4"
  }
 },
 "nbformat": 4,
 "nbformat_minor": 2
}
